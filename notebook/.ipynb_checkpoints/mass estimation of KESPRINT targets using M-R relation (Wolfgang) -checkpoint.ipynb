{
 "cells": [
  {
   "cell_type": "markdown",
   "metadata": {},
   "source": [
    "# M-R relation\n",
    "* see [results](http://nbviewer.jupyter.org/github/jpdeleon/MRrelation/tree/master/KESPRINT-C10/) generated using Wolfgang's [MRrelation](https://github.com/dawolfgang/MRrelation) based on [Wolfgang, Rogers, & Ford (2015)](https://arxiv.org/abs/1504.07557)\n",
    "\n",
    "Other newer references for Mass-Radius relation for small planets:\n",
    "* An asteroseismic view of the radius valley ([van Eylen+2017](https://arxiv.org/abs/1710.05398))\n",
    "* A Gap in the Radius Distribution of Small Planets ([Fulton+2017](https://arxiv.org/abs/1703.10375))"
   ]
  },
  {
   "cell_type": "code",
   "execution_count": 1,
   "metadata": {
    "ExecuteTime": {
     "end_time": "2017-11-09T04:52:55.652892Z",
     "start_time": "2017-11-09T04:52:55.633805Z"
    }
   },
   "outputs": [
    {
     "data": {
      "text/plain": [
       "datetime.datetime(2017, 11, 9, 13, 52, 55, 636965)"
      ]
     },
     "execution_count": 1,
     "metadata": {},
     "output_type": "execute_result"
    }
   ],
   "source": [
    "from datetime import datetime as dt\n",
    "\n",
    "dt.now()"
   ]
  },
  {
   "cell_type": "code",
   "execution_count": 2,
   "metadata": {
    "ExecuteTime": {
     "end_time": "2017-11-09T04:52:55.662228Z",
     "start_time": "2017-11-09T04:52:55.655391Z"
    }
   },
   "outputs": [
    {
     "data": {
      "text/plain": [
       "'astroconda35'"
      ]
     },
     "execution_count": 2,
     "metadata": {},
     "output_type": "execute_result"
    }
   ],
   "source": [
    "import os\n",
    "os.environ['CONDA_DEFAULT_ENV']"
   ]
  },
  {
   "cell_type": "code",
   "execution_count": 3,
   "metadata": {
    "ExecuteTime": {
     "end_time": "2017-11-09T04:52:55.779637Z",
     "start_time": "2017-11-09T04:52:55.664838Z"
    }
   },
   "outputs": [
    {
     "name": "stdout",
     "output_type": "stream",
     "text": [
      "Python 3.6.1 :: Continuum Analytics, Inc.\r\n"
     ]
    }
   ],
   "source": [
    "!python --version"
   ]
  },
  {
   "cell_type": "markdown",
   "metadata": {},
   "source": [
    "## List of KESPRINT validated systems (K2-Campaign 10)\n",
    "\n",
    "Data from John"
   ]
  },
  {
   "cell_type": "code",
   "execution_count": 4,
   "metadata": {
    "ExecuteTime": {
     "end_time": "2017-11-09T04:52:56.510831Z",
     "start_time": "2017-11-09T04:52:55.782259Z"
    }
   },
   "outputs": [
    {
     "data": {
      "text/html": [
       "<div>\n",
       "<style>\n",
       "    .dataframe thead tr:only-child th {\n",
       "        text-align: right;\n",
       "    }\n",
       "\n",
       "    .dataframe thead th {\n",
       "        text-align: left;\n",
       "    }\n",
       "\n",
       "    .dataframe tbody tr th {\n",
       "        vertical-align: top;\n",
       "    }\n",
       "</style>\n",
       "<table border=\"1\" class=\"dataframe\">\n",
       "  <thead>\n",
       "    <tr style=\"text-align: right;\">\n",
       "      <th></th>\n",
       "      <th>epic</th>\n",
       "      <th>pl</th>\n",
       "      <th>p</th>\n",
       "      <th>r</th>\n",
       "      <th>r_err</th>\n",
       "      <th>st_mass</th>\n",
       "    </tr>\n",
       "  </thead>\n",
       "  <tbody>\n",
       "    <tr>\n",
       "      <th>0</th>\n",
       "      <td>201092629</td>\n",
       "      <td>b</td>\n",
       "      <td>26.810369</td>\n",
       "      <td>2.10</td>\n",
       "      <td>0.10</td>\n",
       "      <td>0.705105</td>\n",
       "    </tr>\n",
       "    <tr>\n",
       "      <th>1</th>\n",
       "      <td>201102594</td>\n",
       "      <td>b</td>\n",
       "      <td>6.513566</td>\n",
       "      <td>2.73</td>\n",
       "      <td>0.83</td>\n",
       "      <td>0.342000</td>\n",
       "    </tr>\n",
       "    <tr>\n",
       "      <th>2</th>\n",
       "      <td>201110617</td>\n",
       "      <td>b</td>\n",
       "      <td>0.813101</td>\n",
       "      <td>1.49</td>\n",
       "      <td>0.70</td>\n",
       "      <td>0.624323</td>\n",
       "    </tr>\n",
       "    <tr>\n",
       "      <th>3</th>\n",
       "      <td>201128338</td>\n",
       "      <td>b</td>\n",
       "      <td>32.654116</td>\n",
       "      <td>2.30</td>\n",
       "      <td>0.18</td>\n",
       "      <td>0.548301</td>\n",
       "    </tr>\n",
       "    <tr>\n",
       "      <th>4</th>\n",
       "      <td>201132684</td>\n",
       "      <td>b</td>\n",
       "      <td>10.060960</td>\n",
       "      <td>30.05</td>\n",
       "      <td>6.26</td>\n",
       "      <td>0.903000</td>\n",
       "    </tr>\n",
       "  </tbody>\n",
       "</table>\n",
       "</div>"
      ],
      "text/plain": [
       "        epic pl          p      r  r_err   st_mass\n",
       "0  201092629  b  26.810369   2.10   0.10  0.705105\n",
       "1  201102594  b   6.513566   2.73   0.83  0.342000\n",
       "2  201110617  b   0.813101   1.49   0.70  0.624323\n",
       "3  201128338  b  32.654116   2.30   0.18  0.548301\n",
       "4  201132684  b  10.060960  30.05   6.26  0.903000"
      ]
     },
     "execution_count": 4,
     "metadata": {},
     "output_type": "execute_result"
    }
   ],
   "source": [
    "import pandas as pd\n",
    "\n",
    "#epic with transit+stellar parameters\n",
    "df = pd.read_csv('../data/c10_per_rad_stm.csv')\n",
    "df.head()"
   ]
  },
  {
   "cell_type": "markdown",
   "metadata": {},
   "source": [
    "## Read an R-script from Python\n",
    "\n",
    "** run only once**"
   ]
  },
  {
   "cell_type": "raw",
   "metadata": {
    "ExecuteTime": {
     "end_time": "2017-11-08T13:15:11.123628Z",
     "start_time": "2017-11-08T13:11:41.015057Z"
    }
   },
   "source": [
    "from tqdm import tqdm\n",
    "import subprocess\n",
    "import os\n",
    "\n",
    "#start with smallest planets\n",
    "df = df.sort_values(by='r')\n",
    "\n",
    "epics      = df['epic']\n",
    "radii      = df['r']\n",
    "radii_errs = df['r_err']\n",
    "\n",
    "n=-1 #run all\n",
    "for epic,r,r_err in tqdm(zip(epics[:n],radii[:n],radii_errs[:n])):\n",
    "    #print(epic)\n",
    "    os.chdir('../scripts/')\n",
    "    !Rscript run_MR.R $epic $r $r_err"
   ]
  },
  {
   "cell_type": "markdown",
   "metadata": {},
   "source": [
    "## Read posterior samples for M-R"
   ]
  },
  {
   "cell_type": "code",
   "execution_count": 5,
   "metadata": {
    "ExecuteTime": {
     "end_time": "2017-11-09T04:52:56.519879Z",
     "start_time": "2017-11-09T04:52:56.513567Z"
    },
    "collapsed": true
   },
   "outputs": [],
   "source": [
    "import pandas as pd\n",
    "\n",
    "#epic with transit+stellar parameters\n",
    "df = pd.read_csv('../data/c10_per_rad_stm.csv')"
   ]
  },
  {
   "cell_type": "code",
   "execution_count": 6,
   "metadata": {
    "ExecuteTime": {
     "end_time": "2017-11-09T04:53:01.071120Z",
     "start_time": "2017-11-09T04:52:56.523298Z"
    }
   },
   "outputs": [
    {
     "name": "stderr",
     "output_type": "stream",
     "text": [
      "58it [00:04, 13.18it/s]\n"
     ]
    }
   ],
   "source": [
    "import numpy as np\n",
    "from tqdm import tqdm\n",
    "\n",
    "inputdir = '/home/jp/github/MRrelation/KESPRINT-C10/'\n",
    "\n",
    "epics      = df['epic']\n",
    "radii      = df['r']\n",
    "pl_list    = df['pl'] #used also as key for merging later\n",
    "\n",
    "mass_estimates = {}\n",
    "\n",
    "sigma_minus = []\n",
    "sigma_plus  = []\n",
    "mean_value  = [] #mass\n",
    "\n",
    "new_epics   = []\n",
    "new_pl_list = []\n",
    "\n",
    "for epic,pl in tqdm(zip(epics,pl_list)):\n",
    "    #print(epic)\n",
    "    fname = inputdir+'massrad_postpred_'+str(epic)+'.txt'\n",
    "    try:\n",
    "        df_mr = pd.read_csv(fname, delimiter=' ')#, dtype=float)\n",
    "        #get mean mass and their 1-sigma uncertainty\n",
    "        minus, median, plus =np.percentile(df_mr['masses'].values, \n",
    "                                           [16,50,84],\n",
    "                                          axis=0)\n",
    "        \n",
    "        assert minus < median < plus\n",
    "        low = median - minus\n",
    "        hi  = plus - median\n",
    "        \n",
    "        sigma_minus.append(low)\n",
    "        sigma_plus.append(hi)\n",
    "        mean_value.append(median)\n",
    "        \n",
    "        new_epics.append(epic)\n",
    "        new_pl_list.append(pl)\n",
    "        \n",
    "        mass_estimates[epic] = [low, median, hi]\n",
    "    except Exception as e:\n",
    "        print(e)"
   ]
  },
  {
   "cell_type": "code",
   "execution_count": 7,
   "metadata": {
    "ExecuteTime": {
     "end_time": "2017-11-09T04:53:01.081764Z",
     "start_time": "2017-11-09T04:53:01.074712Z"
    }
   },
   "outputs": [
    {
     "data": {
      "text/plain": [
       "dict_keys([201092629, 201102594, 201110617, 201128338, 201132684, 201164625, 201166680, 201211526, 201234090, 201274010, 201352100, 201386739, 201390048, 201390927, 201392505, 201437844, 201595106, 201598502, 201615463, 228707509, 228721452, 228725791, 228725972, 228729473, 228732031, 228734900, 228735255, 228736155, 228739306, 228748383, 228748826, 228753871, 228758778, 228758948, 228763938, 228798746, 228801451, 228804845, 228809391, 228809550, 228834632, 228846243, 228888935, 228894622, 228934525, 228962330, 228968232, 228974324, 228974907, 229017395, 229131722, 229133720])"
      ]
     },
     "execution_count": 7,
     "metadata": {},
     "output_type": "execute_result"
    }
   ],
   "source": [
    "mass_estimates.keys()"
   ]
  },
  {
   "cell_type": "markdown",
   "metadata": {},
   "source": [
    "Convert into dataframe:"
   ]
  },
  {
   "cell_type": "code",
   "execution_count": 8,
   "metadata": {
    "ExecuteTime": {
     "end_time": "2017-11-09T04:53:01.104211Z",
     "start_time": "2017-11-09T04:53:01.086361Z"
    },
    "collapsed": true
   },
   "outputs": [],
   "source": [
    "df_mass = pd.DataFrame({'epic': new_epics, \n",
    "              'pl': new_pl_list,\n",
    "              'm': mean_value,\n",
    "              'm_err-': sigma_minus,\n",
    "              'm_err+': sigma_plus})"
   ]
  },
  {
   "cell_type": "code",
   "execution_count": 9,
   "metadata": {
    "ExecuteTime": {
     "end_time": "2017-11-09T04:53:01.127076Z",
     "start_time": "2017-11-09T04:53:01.107544Z"
    }
   },
   "outputs": [
    {
     "data": {
      "text/html": [
       "<div>\n",
       "<style>\n",
       "    .dataframe thead tr:only-child th {\n",
       "        text-align: right;\n",
       "    }\n",
       "\n",
       "    .dataframe thead th {\n",
       "        text-align: left;\n",
       "    }\n",
       "\n",
       "    .dataframe tbody tr th {\n",
       "        vertical-align: top;\n",
       "    }\n",
       "</style>\n",
       "<table border=\"1\" class=\"dataframe\">\n",
       "  <thead>\n",
       "    <tr style=\"text-align: right;\">\n",
       "      <th></th>\n",
       "      <th>epic</th>\n",
       "      <th>m</th>\n",
       "      <th>m_err+</th>\n",
       "      <th>m_err-</th>\n",
       "      <th>pl</th>\n",
       "    </tr>\n",
       "  </thead>\n",
       "  <tbody>\n",
       "    <tr>\n",
       "      <th>0</th>\n",
       "      <td>201092629</td>\n",
       "      <td>6.923203</td>\n",
       "      <td>2.322747</td>\n",
       "      <td>2.317064</td>\n",
       "      <td>b</td>\n",
       "    </tr>\n",
       "    <tr>\n",
       "      <th>1</th>\n",
       "      <td>201102594</td>\n",
       "      <td>9.646539</td>\n",
       "      <td>4.646259</td>\n",
       "      <td>4.308479</td>\n",
       "      <td>b</td>\n",
       "    </tr>\n",
       "    <tr>\n",
       "      <th>2</th>\n",
       "      <td>201110617</td>\n",
       "      <td>4.147018</td>\n",
       "      <td>3.981731</td>\n",
       "      <td>3.644689</td>\n",
       "      <td>b</td>\n",
       "    </tr>\n",
       "    <tr>\n",
       "      <th>3</th>\n",
       "      <td>201128338</td>\n",
       "      <td>7.779031</td>\n",
       "      <td>2.416667</td>\n",
       "      <td>2.431014</td>\n",
       "      <td>b</td>\n",
       "    </tr>\n",
       "    <tr>\n",
       "      <th>4</th>\n",
       "      <td>201132684</td>\n",
       "      <td>5.785783</td>\n",
       "      <td>2.847233</td>\n",
       "      <td>2.836353</td>\n",
       "      <td>b</td>\n",
       "    </tr>\n",
       "  </tbody>\n",
       "</table>\n",
       "</div>"
      ],
      "text/plain": [
       "        epic         m    m_err+    m_err- pl\n",
       "0  201092629  6.923203  2.322747  2.317064  b\n",
       "1  201102594  9.646539  4.646259  4.308479  b\n",
       "2  201110617  4.147018  3.981731  3.644689  b\n",
       "3  201128338  7.779031  2.416667  2.431014  b\n",
       "4  201132684  5.785783  2.847233  2.836353  b"
      ]
     },
     "execution_count": 9,
     "metadata": {},
     "output_type": "execute_result"
    }
   ],
   "source": [
    "df_mass.head()"
   ]
  },
  {
   "cell_type": "code",
   "execution_count": 10,
   "metadata": {
    "ExecuteTime": {
     "end_time": "2017-11-09T04:53:01.137043Z",
     "start_time": "2017-11-09T04:53:01.130249Z"
    }
   },
   "outputs": [
    {
     "data": {
      "text/plain": [
       "58"
      ]
     },
     "execution_count": 10,
     "metadata": {},
     "output_type": "execute_result"
    }
   ],
   "source": [
    "len(df_mass)"
   ]
  },
  {
   "cell_type": "markdown",
   "metadata": {},
   "source": [
    "Merge df"
   ]
  },
  {
   "cell_type": "code",
   "execution_count": 11,
   "metadata": {
    "ExecuteTime": {
     "end_time": "2017-11-09T04:53:01.173855Z",
     "start_time": "2017-11-09T04:53:01.140784Z"
    }
   },
   "outputs": [
    {
     "data": {
      "text/html": [
       "<div>\n",
       "<style>\n",
       "    .dataframe thead tr:only-child th {\n",
       "        text-align: right;\n",
       "    }\n",
       "\n",
       "    .dataframe thead th {\n",
       "        text-align: left;\n",
       "    }\n",
       "\n",
       "    .dataframe tbody tr th {\n",
       "        vertical-align: top;\n",
       "    }\n",
       "</style>\n",
       "<table border=\"1\" class=\"dataframe\">\n",
       "  <thead>\n",
       "    <tr style=\"text-align: right;\">\n",
       "      <th></th>\n",
       "      <th>epic</th>\n",
       "      <th>m</th>\n",
       "      <th>m_err+</th>\n",
       "      <th>m_err-</th>\n",
       "      <th>pl</th>\n",
       "      <th>p</th>\n",
       "      <th>r</th>\n",
       "      <th>r_err</th>\n",
       "      <th>st_mass</th>\n",
       "    </tr>\n",
       "  </thead>\n",
       "  <tbody>\n",
       "    <tr>\n",
       "      <th>0</th>\n",
       "      <td>201092629</td>\n",
       "      <td>6.923203</td>\n",
       "      <td>2.322747</td>\n",
       "      <td>2.317064</td>\n",
       "      <td>b</td>\n",
       "      <td>26.810369</td>\n",
       "      <td>2.10</td>\n",
       "      <td>0.10</td>\n",
       "      <td>0.705105</td>\n",
       "    </tr>\n",
       "    <tr>\n",
       "      <th>1</th>\n",
       "      <td>201102594</td>\n",
       "      <td>9.646539</td>\n",
       "      <td>4.646259</td>\n",
       "      <td>4.308479</td>\n",
       "      <td>b</td>\n",
       "      <td>6.513566</td>\n",
       "      <td>2.73</td>\n",
       "      <td>0.83</td>\n",
       "      <td>0.342000</td>\n",
       "    </tr>\n",
       "    <tr>\n",
       "      <th>2</th>\n",
       "      <td>201110617</td>\n",
       "      <td>4.147018</td>\n",
       "      <td>3.981731</td>\n",
       "      <td>3.644689</td>\n",
       "      <td>b</td>\n",
       "      <td>0.813101</td>\n",
       "      <td>1.49</td>\n",
       "      <td>0.70</td>\n",
       "      <td>0.624323</td>\n",
       "    </tr>\n",
       "    <tr>\n",
       "      <th>3</th>\n",
       "      <td>201128338</td>\n",
       "      <td>7.779031</td>\n",
       "      <td>2.416667</td>\n",
       "      <td>2.431014</td>\n",
       "      <td>b</td>\n",
       "      <td>32.654116</td>\n",
       "      <td>2.30</td>\n",
       "      <td>0.18</td>\n",
       "      <td>0.548301</td>\n",
       "    </tr>\n",
       "    <tr>\n",
       "      <th>4</th>\n",
       "      <td>201132684</td>\n",
       "      <td>5.785783</td>\n",
       "      <td>2.847233</td>\n",
       "      <td>2.836353</td>\n",
       "      <td>b</td>\n",
       "      <td>10.060960</td>\n",
       "      <td>30.05</td>\n",
       "      <td>6.26</td>\n",
       "      <td>0.903000</td>\n",
       "    </tr>\n",
       "  </tbody>\n",
       "</table>\n",
       "</div>"
      ],
      "text/plain": [
       "        epic         m    m_err+    m_err- pl          p      r  r_err  \\\n",
       "0  201092629  6.923203  2.322747  2.317064  b  26.810369   2.10   0.10   \n",
       "1  201102594  9.646539  4.646259  4.308479  b   6.513566   2.73   0.83   \n",
       "2  201110617  4.147018  3.981731  3.644689  b   0.813101   1.49   0.70   \n",
       "3  201128338  7.779031  2.416667  2.431014  b  32.654116   2.30   0.18   \n",
       "4  201132684  5.785783  2.847233  2.836353  b  10.060960  30.05   6.26   \n",
       "\n",
       "    st_mass  \n",
       "0  0.705105  \n",
       "1  0.342000  \n",
       "2  0.624323  \n",
       "3  0.548301  \n",
       "4  0.903000  "
      ]
     },
     "execution_count": 11,
     "metadata": {},
     "output_type": "execute_result"
    }
   ],
   "source": [
    "df_final = pd.merge(df_mass, df, on=['epic','pl'])\n",
    "df_final.head()"
   ]
  },
  {
   "cell_type": "code",
   "execution_count": 12,
   "metadata": {
    "ExecuteTime": {
     "end_time": "2017-11-09T04:53:01.410238Z",
     "start_time": "2017-11-09T04:53:01.176277Z"
    },
    "collapsed": true
   },
   "outputs": [],
   "source": [
    "import matplotlib.pyplot as pl\n",
    "%matplotlib inline\n",
    "\n",
    "pl.style.use('seaborn-white')\n",
    "import matplotlib\n",
    "matplotlib.rcParams.update({'font.size': 18})\n",
    "pl.rcParams['ytick.labelsize'] = 'large'\n",
    "pl.rcParams['xtick.labelsize'] = 'large'\n",
    "fontsize=18"
   ]
  },
  {
   "cell_type": "code",
   "execution_count": 13,
   "metadata": {
    "ExecuteTime": {
     "end_time": "2017-11-09T04:53:02.122702Z",
     "start_time": "2017-11-09T04:53:01.413468Z"
    }
   },
   "outputs": [
    {
     "data": {
      "text/plain": [
       "<matplotlib.text.Text at 0x7fe6c362b470>"
      ]
     },
     "execution_count": 13,
     "metadata": {},
     "output_type": "execute_result"
    },
    {
     "data": {
      "image/png": "[encoded data removed]",
      "text/plain": [
       "<matplotlib.figure.Figure at 0x7fe6c36014a8>"
      ]
     },
     "metadata": {},
     "output_type": "display_data"
    }
   ],
   "source": [
    "fig = pl.figure(figsize=(10,10))\n",
    "\n",
    "m    = df_final['m'].values\n",
    "r    = df_final['r'].values\n",
    "minus= df_final['m_err-'].values\n",
    "plus = df_final['m_err+'].values\n",
    "rerr = df_final['r_err'].values\n",
    "\n",
    "m_err = [minus,plus]\n",
    "\n",
    "pl.plot(r,m,'r.')\n",
    "pl.errorbar(r,m,yerr=m_err,xerr=rerr,linestyle='')\n",
    "pl.xlabel('Radius [R$_{\\oplus}$]')\n",
    "pl.ylabel('Mass [M$_{\\oplus}$]')"
   ]
  },
  {
   "cell_type": "markdown",
   "metadata": {},
   "source": [
    "Check outlier:"
   ]
  },
  {
   "cell_type": "code",
   "execution_count": 14,
   "metadata": {
    "ExecuteTime": {
     "end_time": "2017-11-09T04:53:02.155674Z",
     "start_time": "2017-11-09T04:53:02.125464Z"
    }
   },
   "outputs": [
    {
     "data": {
      "text/html": [
       "<div>\n",
       "<style>\n",
       "    .dataframe thead tr:only-child th {\n",
       "        text-align: right;\n",
       "    }\n",
       "\n",
       "    .dataframe thead th {\n",
       "        text-align: left;\n",
       "    }\n",
       "\n",
       "    .dataframe tbody tr th {\n",
       "        vertical-align: top;\n",
       "    }\n",
       "</style>\n",
       "<table border=\"1\" class=\"dataframe\">\n",
       "  <thead>\n",
       "    <tr style=\"text-align: right;\">\n",
       "      <th></th>\n",
       "      <th>epic</th>\n",
       "      <th>m</th>\n",
       "      <th>m_err+</th>\n",
       "      <th>m_err-</th>\n",
       "      <th>pl</th>\n",
       "      <th>p</th>\n",
       "      <th>r</th>\n",
       "      <th>r_err</th>\n",
       "      <th>st_mass</th>\n",
       "    </tr>\n",
       "  </thead>\n",
       "  <tbody>\n",
       "    <tr>\n",
       "      <th>4</th>\n",
       "      <td>201132684</td>\n",
       "      <td>5.785783</td>\n",
       "      <td>2.847233</td>\n",
       "      <td>2.836353</td>\n",
       "      <td>b</td>\n",
       "      <td>10.060960</td>\n",
       "      <td>30.05</td>\n",
       "      <td>6.26</td>\n",
       "      <td>0.903000</td>\n",
       "    </tr>\n",
       "    <tr>\n",
       "      <th>24</th>\n",
       "      <td>228725791</td>\n",
       "      <td>5.674498</td>\n",
       "      <td>2.520741</td>\n",
       "      <td>2.446665</td>\n",
       "      <td>b</td>\n",
       "      <td>2.250263</td>\n",
       "      <td>14.02</td>\n",
       "      <td>5.39</td>\n",
       "      <td>0.436000</td>\n",
       "    </tr>\n",
       "    <tr>\n",
       "      <th>27</th>\n",
       "      <td>228729473</td>\n",
       "      <td>73.818498</td>\n",
       "      <td>69.169507</td>\n",
       "      <td>37.086720</td>\n",
       "      <td>b</td>\n",
       "      <td>16.773321</td>\n",
       "      <td>15.61</td>\n",
       "      <td>2.31</td>\n",
       "      <td>1.042014</td>\n",
       "    </tr>\n",
       "  </tbody>\n",
       "</table>\n",
       "</div>"
      ],
      "text/plain": [
       "         epic          m     m_err+     m_err- pl          p      r  r_err  \\\n",
       "4   201132684   5.785783   2.847233   2.836353  b  10.060960  30.05   6.26   \n",
       "24  228725791   5.674498   2.520741   2.446665  b   2.250263  14.02   5.39   \n",
       "27  228729473  73.818498  69.169507  37.086720  b  16.773321  15.61   2.31   \n",
       "\n",
       "     st_mass  \n",
       "4   0.903000  \n",
       "24  0.436000  \n",
       "27  1.042014  "
      ]
     },
     "execution_count": 14,
     "metadata": {},
     "output_type": "execute_result"
    }
   ],
   "source": [
    "df_final.query('r > 13')"
   ]
  },
  {
   "cell_type": "code",
   "execution_count": 15,
   "metadata": {
    "ExecuteTime": {
     "end_time": "2017-11-09T04:53:02.165379Z",
     "start_time": "2017-11-09T04:53:02.159254Z"
    }
   },
   "outputs": [
    {
     "data": {
      "text/plain": [
       "[37.08672027550314, 73.818497588522604, 69.169506646225443]"
      ]
     },
     "execution_count": 15,
     "metadata": {},
     "output_type": "execute_result"
    }
   ],
   "source": [
    "name=228729473\n",
    "mass_estimates[name]"
   ]
  },
  {
   "cell_type": "code",
   "execution_count": 16,
   "metadata": {
    "ExecuteTime": {
     "end_time": "2017-11-09T04:53:02.277707Z",
     "start_time": "2017-11-09T04:53:02.170716Z"
    }
   },
   "outputs": [
    {
     "data": {
      "text/plain": [
       "array([  36.73177731,   73.81849759,  142.98800423])"
      ]
     },
     "execution_count": 16,
     "metadata": {},
     "output_type": "execute_result"
    }
   ],
   "source": [
    "fname = inputdir+'massrad_postpred_'+str(name)+'.txt'\n",
    "df_mr = pd.read_csv(fname, delimiter=' ')\n",
    "np.percentile(df_mr['masses'].values,[16,50,84])"
   ]
  },
  {
   "cell_type": "markdown",
   "metadata": {},
   "source": [
    "Check in terminal if output of MRrelation is really wrong:\n",
    "```Rscript scripts/run_MR.R $name 14.02 5.39\n",
    "$ cd ~/github/MRrelation\n",
    "$ \n",
    "```"
   ]
  },
  {
   "cell_type": "code",
   "execution_count": 17,
   "metadata": {
    "ExecuteTime": {
     "end_time": "2017-11-09T04:53:03.298355Z",
     "start_time": "2017-11-09T04:53:02.281481Z"
    }
   },
   "outputs": [
    {
     "data": {
      "text/plain": [
       "<matplotlib.collections.LineCollection at 0x7fe6c0943c50>"
      ]
     },
     "execution_count": 17,
     "metadata": {},
     "output_type": "execute_result"
    },
    {
     "data": {
      "image/png": "[encoded data removed]",
      "text/plain": [
       "<matplotlib.figure.Figure at 0x7fe6c09de940>"
      ]
     },
     "metadata": {},
     "output_type": "display_data"
    }
   ],
   "source": [
    "fig = pl.figure(figsize=(10,10))\n",
    "\n",
    "m    = df_final['m'].values\n",
    "r    = df_final['r'].values\n",
    "minus= df_final['m_err-'].values\n",
    "plus = df_final['m_err+'].values\n",
    "rerr = df_final['r_err'].values\n",
    "\n",
    "m_err = [minus,plus]\n",
    "\n",
    "pl.plot(r,m,'r.')\n",
    "pl.errorbar(r,m,yerr=m_err,xerr=rerr,linestyle='')\n",
    "pl.xscale('log')\n",
    "pl.yscale('log')\n",
    "pl.xlabel('Radius [R$_{\\oplus}$]')\n",
    "pl.ylabel('Mass [M$_{\\oplus}$]')\n",
    "\n",
    "#ylims = *pl.gca().get_ylim()\n",
    "ylims = [1e-2, 1e2]\n",
    "\n",
    "#super Earth\n",
    "pl.vlines(1.5, *ylims, linestyle='--')\n",
    "#sub-Neptune\n",
    "pl.vlines(3, *ylims, linestyle='--')"
   ]
  },
  {
   "cell_type": "markdown",
   "metadata": {},
   "source": [
    "## Straddling the Fulton gap?\n",
    "\n",
    "* [Fulton+2017](https://arxiv.org/pdf/1703.10375.pdf): \n",
    "\n",
    "```\n",
    "We detect a factor of ≥2 deficit in the occurrence rate distribution at 1.5–2.0 R⊕. \n",
    "This gap splits the population of close-in (P < 100 d) small planets into two size regimes: \n",
    "\n",
    "RP < 1.5 R⊕ and RP = 2.0–3.0 R⊕, with few planets in between. \n",
    "\n",
    "Planets in these two regimes have nearly the same intrinsic frequency based on occurrence\n",
    "measurements that account for planet detection efficiencies. \n",
    "The paucity of planets between 1.5 and 2.0 R⊕ supports the emerging picture that close-in \n",
    "planets smaller than Neptune are composed of rocky cores measuring 1.5 R⊕ or smaller with \n",
    "varying amounts of low-density gas that determine their total sizes.\n",
    "```\n",
    "\n",
    "* [van Eylen](https://arxiv.org/pdf/1710.05398.pdf):\n",
    "\n",
    "```\n",
    "We detect a clear bimodal distribution, with \n",
    "super-Earths (≈ 1.5 R⊕)and sub-Neptunes (≈ 2.5 R⊕) \n",
    "separated by a deficiency around 2 R⊕. \n",
    "\n",
    "We furthermore characterize the slope of the valley as a power law \n",
    "R ∝ P\n",
    "γ with γ = −0.09 [+0.02 −0.04]. \n",
    "\n",
    "A negative slope is consistent with models of photo-evaporation, \n",
    "but not with the late formation of rocky planets in a gas-poor environment, \n",
    "which would lead to a slope of opposite sign.\n",
    "The exact location of the gap further points to planet cores consisting\n",
    "of a significant fraction of rocky material.\n",
    "```"
   ]
  },
  {
   "cell_type": "code",
   "execution_count": 18,
   "metadata": {
    "ExecuteTime": {
     "end_time": "2017-11-09T04:53:13.753232Z",
     "start_time": "2017-11-09T04:53:12.850353Z"
    },
    "scrolled": false
   },
   "outputs": [
    {
     "data": {
      "text/plain": [
       "<matplotlib.collections.LineCollection at 0x7fe6c09437b8>"
      ]
     },
     "execution_count": 18,
     "metadata": {},
     "output_type": "execute_result"
    },
    {
     "data": {
      "image/png": "[encoded data removed]",
      "text/plain": [
       "<matplotlib.figure.Figure at 0x7fe6c0708b38>"
      ]
     },
     "metadata": {},
     "output_type": "display_data"
    }
   ],
   "source": [
    "within_gap = df_final.query('1.5 <= r <= 3')\n",
    "\n",
    "fig = pl.figure(figsize=(10,10))\n",
    "\n",
    "loglog = True\n",
    "\n",
    "m    = within_gap['m'].values\n",
    "r    = within_gap['r'].values\n",
    "minus= within_gap['m_err-'].values\n",
    "plus = within_gap['m_err+'].values\n",
    "rerr = within_gap['r_err'].values\n",
    "\n",
    "m_err = [minus,plus]\n",
    "\n",
    "pl.plot(r,m,'r.')\n",
    "pl.errorbar(r,m,yerr=m_err,xerr=rerr,linestyle='')\n",
    "if loglog:\n",
    "    pl.xscale('log')\n",
    "    pl.yscale('log')\n",
    "    pl.ylim(1,1e2)\n",
    "pl.xlabel('Radius [R$_{\\oplus}$]')\n",
    "pl.ylabel('Mass [M$_{\\oplus}$]')\n",
    "pl.title('Within Fulton Gap')\n",
    "#super Earth\n",
    "pl.vlines(1.75, *ylims, linestyle='--')\n",
    "#sub-Neptune\n",
    "pl.vlines(2, *ylims, linestyle='--')"
   ]
  },
  {
   "cell_type": "raw",
   "metadata": {
    "ExecuteTime": {
     "end_time": "2017-11-08T16:27:43.263163Z",
     "start_time": "2017-11-08T16:27:43.036362Z"
    }
   },
   "source": [
    "pl.hist(r, normed=True, histtype='stepfilled', alpha=0.2);"
   ]
  },
  {
   "cell_type": "raw",
   "metadata": {
    "ExecuteTime": {
     "end_time": "2017-11-08T16:28:11.814723Z",
     "start_time": "2017-11-08T16:28:11.565024Z"
    }
   },
   "source": [
    "pl.hist(m, normed=True, histtype='stepfilled', alpha=0.2);"
   ]
  },
  {
   "cell_type": "markdown",
   "metadata": {},
   "source": [
    "## Semi-amplitude\n",
    "\n",
    "* Equation taken from [NExSci page](https://exoplanetarchive.ipac.caltech.edu/docs/poet_calculations.html)"
   ]
  },
  {
   "cell_type": "code",
   "execution_count": 19,
   "metadata": {
    "ExecuteTime": {
     "end_time": "2017-11-09T04:53:24.678217Z",
     "start_time": "2017-11-09T04:53:24.656912Z"
    },
    "collapsed": true
   },
   "outputs": [],
   "source": [
    "def K(period, Mp, Ms, inc=np.pi/2, ecc=0):\n",
    "    '''\n",
    "    period: orbital period in day\n",
    "    Mp : mass of planet in Jupiter mass\n",
    "    Ms : mass of star in solar mass\n",
    "    \n",
    "    RV semi-amplitude in m/s\n",
    "    '''\n",
    "    first = 203*(period)**(-1/3)\n",
    "    num   = Mp*np.sin(inc)\n",
    "    den   = (Ms + 9.548e-4 * Mp)**(2/3)\n",
    "    third = 1/(np.sqrt(1-ecc**2))\n",
    "    \n",
    "    return first * num/den * third"
   ]
  },
  {
   "cell_type": "code",
   "execution_count": 20,
   "metadata": {
    "ExecuteTime": {
     "end_time": "2017-11-09T04:53:25.780391Z",
     "start_time": "2017-11-09T04:53:25.157293Z"
    },
    "collapsed": true
   },
   "outputs": [],
   "source": [
    "import astropy.units as u\n",
    "\n",
    "Mj = df_final['m'].values*u.Mearth.to(u.Mjup)\n",
    "P  = df_final['p'].values\n",
    "Ms = df_final['st_mass'].values\n",
    "\n",
    "df_final['semi_amp'] = K(P,Mj, Ms) "
   ]
  },
  {
   "cell_type": "code",
   "execution_count": 21,
   "metadata": {
    "ExecuteTime": {
     "end_time": "2017-11-09T04:53:25.821317Z",
     "start_time": "2017-11-09T04:53:25.783275Z"
    }
   },
   "outputs": [
    {
     "data": {
      "text/html": [
       "<div>\n",
       "<style>\n",
       "    .dataframe thead tr:only-child th {\n",
       "        text-align: right;\n",
       "    }\n",
       "\n",
       "    .dataframe thead th {\n",
       "        text-align: left;\n",
       "    }\n",
       "\n",
       "    .dataframe tbody tr th {\n",
       "        vertical-align: top;\n",
       "    }\n",
       "</style>\n",
       "<table border=\"1\" class=\"dataframe\">\n",
       "  <thead>\n",
       "    <tr style=\"text-align: right;\">\n",
       "      <th></th>\n",
       "      <th>epic</th>\n",
       "      <th>m</th>\n",
       "      <th>m_err+</th>\n",
       "      <th>m_err-</th>\n",
       "      <th>pl</th>\n",
       "      <th>p</th>\n",
       "      <th>r</th>\n",
       "      <th>r_err</th>\n",
       "      <th>st_mass</th>\n",
       "      <th>semi_amp</th>\n",
       "    </tr>\n",
       "  </thead>\n",
       "  <tbody>\n",
       "    <tr>\n",
       "      <th>0</th>\n",
       "      <td>201092629</td>\n",
       "      <td>6.923203</td>\n",
       "      <td>2.322747</td>\n",
       "      <td>2.317064</td>\n",
       "      <td>b</td>\n",
       "      <td>26.810369</td>\n",
       "      <td>2.10</td>\n",
       "      <td>0.10</td>\n",
       "      <td>0.705105</td>\n",
       "      <td>1.864940</td>\n",
       "    </tr>\n",
       "    <tr>\n",
       "      <th>1</th>\n",
       "      <td>201102594</td>\n",
       "      <td>9.646539</td>\n",
       "      <td>4.646259</td>\n",
       "      <td>4.308479</td>\n",
       "      <td>b</td>\n",
       "      <td>6.513566</td>\n",
       "      <td>2.73</td>\n",
       "      <td>0.83</td>\n",
       "      <td>0.342000</td>\n",
       "      <td>6.745694</td>\n",
       "    </tr>\n",
       "    <tr>\n",
       "      <th>2</th>\n",
       "      <td>201110617</td>\n",
       "      <td>4.147018</td>\n",
       "      <td>3.981731</td>\n",
       "      <td>3.644689</td>\n",
       "      <td>b</td>\n",
       "      <td>0.813101</td>\n",
       "      <td>1.49</td>\n",
       "      <td>0.70</td>\n",
       "      <td>0.624323</td>\n",
       "      <td>3.884892</td>\n",
       "    </tr>\n",
       "    <tr>\n",
       "      <th>3</th>\n",
       "      <td>201128338</td>\n",
       "      <td>7.779031</td>\n",
       "      <td>2.416667</td>\n",
       "      <td>2.431014</td>\n",
       "      <td>b</td>\n",
       "      <td>32.654116</td>\n",
       "      <td>2.30</td>\n",
       "      <td>0.18</td>\n",
       "      <td>0.548301</td>\n",
       "      <td>2.320374</td>\n",
       "    </tr>\n",
       "    <tr>\n",
       "      <th>4</th>\n",
       "      <td>201132684</td>\n",
       "      <td>5.785783</td>\n",
       "      <td>2.847233</td>\n",
       "      <td>2.836353</td>\n",
       "      <td>b</td>\n",
       "      <td>10.060960</td>\n",
       "      <td>30.05</td>\n",
       "      <td>6.26</td>\n",
       "      <td>0.903000</td>\n",
       "      <td>1.832265</td>\n",
       "    </tr>\n",
       "  </tbody>\n",
       "</table>\n",
       "</div>"
      ],
      "text/plain": [
       "        epic         m    m_err+    m_err- pl          p      r  r_err  \\\n",
       "0  201092629  6.923203  2.322747  2.317064  b  26.810369   2.10   0.10   \n",
       "1  201102594  9.646539  4.646259  4.308479  b   6.513566   2.73   0.83   \n",
       "2  201110617  4.147018  3.981731  3.644689  b   0.813101   1.49   0.70   \n",
       "3  201128338  7.779031  2.416667  2.431014  b  32.654116   2.30   0.18   \n",
       "4  201132684  5.785783  2.847233  2.836353  b  10.060960  30.05   6.26   \n",
       "\n",
       "    st_mass  semi_amp  \n",
       "0  0.705105  1.864940  \n",
       "1  0.342000  6.745694  \n",
       "2  0.624323  3.884892  \n",
       "3  0.548301  2.320374  \n",
       "4  0.903000  1.832265  "
      ]
     },
     "execution_count": 21,
     "metadata": {},
     "output_type": "execute_result"
    }
   ],
   "source": [
    "df_final.head()"
   ]
  },
  {
   "cell_type": "markdown",
   "metadata": {},
   "source": [
    "## Anything interesting?"
   ]
  },
  {
   "cell_type": "markdown",
   "metadata": {},
   "source": [
    "According to [wiki](https://en.wikipedia.org/wiki/Red_dwarf), \n",
    "* M0V ~ 60% Msol\n",
    "* M3V ~ 36% Msol\n",
    "* M9V ~ 7.5% Msol"
   ]
  },
  {
   "cell_type": "markdown",
   "metadata": {},
   "source": [
    "### around M-dwarfs"
   ]
  },
  {
   "cell_type": "code",
   "execution_count": 22,
   "metadata": {
    "ExecuteTime": {
     "end_time": "2017-11-09T04:53:28.383035Z",
     "start_time": "2017-11-09T04:53:28.363245Z"
    }
   },
   "outputs": [
    {
     "data": {
      "text/plain": [
       "(0.34200000000000003, 1.9099999999999999)"
      ]
     },
     "execution_count": 22,
     "metadata": {},
     "output_type": "execute_result"
    }
   ],
   "source": [
    "#super Earth\n",
    "within_gap = df_final.query('1.5 <= r <= 3')\n",
    "\n",
    "within_gap.st_mass.min(), within_gap.st_mass.max()"
   ]
  },
  {
   "cell_type": "code",
   "execution_count": 23,
   "metadata": {
    "ExecuteTime": {
     "end_time": "2017-11-09T04:53:28.911925Z",
     "start_time": "2017-11-09T04:53:28.879095Z"
    }
   },
   "outputs": [
    {
     "data": {
      "text/html": [
       "<div>\n",
       "<style>\n",
       "    .dataframe thead tr:only-child th {\n",
       "        text-align: right;\n",
       "    }\n",
       "\n",
       "    .dataframe thead th {\n",
       "        text-align: left;\n",
       "    }\n",
       "\n",
       "    .dataframe tbody tr th {\n",
       "        vertical-align: top;\n",
       "    }\n",
       "</style>\n",
       "<table border=\"1\" class=\"dataframe\">\n",
       "  <thead>\n",
       "    <tr style=\"text-align: right;\">\n",
       "      <th></th>\n",
       "      <th>epic</th>\n",
       "      <th>m</th>\n",
       "      <th>m_err+</th>\n",
       "      <th>m_err-</th>\n",
       "      <th>pl</th>\n",
       "      <th>p</th>\n",
       "      <th>r</th>\n",
       "      <th>r_err</th>\n",
       "      <th>st_mass</th>\n",
       "      <th>semi_amp</th>\n",
       "    </tr>\n",
       "  </thead>\n",
       "  <tbody>\n",
       "    <tr>\n",
       "      <th>1</th>\n",
       "      <td>201102594</td>\n",
       "      <td>9.646539</td>\n",
       "      <td>4.646259</td>\n",
       "      <td>4.308479</td>\n",
       "      <td>b</td>\n",
       "      <td>6.513566</td>\n",
       "      <td>2.73</td>\n",
       "      <td>0.83</td>\n",
       "      <td>0.342000</td>\n",
       "      <td>6.745694</td>\n",
       "    </tr>\n",
       "    <tr>\n",
       "      <th>3</th>\n",
       "      <td>201128338</td>\n",
       "      <td>7.779031</td>\n",
       "      <td>2.416667</td>\n",
       "      <td>2.431014</td>\n",
       "      <td>b</td>\n",
       "      <td>32.654116</td>\n",
       "      <td>2.30</td>\n",
       "      <td>0.18</td>\n",
       "      <td>0.548301</td>\n",
       "      <td>2.320374</td>\n",
       "    </tr>\n",
       "    <tr>\n",
       "      <th>15</th>\n",
       "      <td>201390927</td>\n",
       "      <td>5.622397</td>\n",
       "      <td>2.363928</td>\n",
       "      <td>2.312666</td>\n",
       "      <td>b</td>\n",
       "      <td>2.637926</td>\n",
       "      <td>1.77</td>\n",
       "      <td>0.16</td>\n",
       "      <td>0.585000</td>\n",
       "      <td>3.715566</td>\n",
       "    </tr>\n",
       "    <tr>\n",
       "      <th>20</th>\n",
       "      <td>201598502</td>\n",
       "      <td>6.530701</td>\n",
       "      <td>2.532474</td>\n",
       "      <td>2.497709</td>\n",
       "      <td>b</td>\n",
       "      <td>7.514982</td>\n",
       "      <td>2.00</td>\n",
       "      <td>0.26</td>\n",
       "      <td>0.448000</td>\n",
       "      <td>3.637104</td>\n",
       "    </tr>\n",
       "    <tr>\n",
       "      <th>25</th>\n",
       "      <td>228725791</td>\n",
       "      <td>5.674498</td>\n",
       "      <td>2.520741</td>\n",
       "      <td>2.446665</td>\n",
       "      <td>c</td>\n",
       "      <td>6.491739</td>\n",
       "      <td>1.79</td>\n",
       "      <td>0.25</td>\n",
       "      <td>0.436000</td>\n",
       "      <td>3.378896</td>\n",
       "    </tr>\n",
       "    <tr>\n",
       "      <th>36</th>\n",
       "      <td>228758778</td>\n",
       "      <td>7.639248</td>\n",
       "      <td>2.666583</td>\n",
       "      <td>2.662171</td>\n",
       "      <td>b</td>\n",
       "      <td>9.300876</td>\n",
       "      <td>2.26</td>\n",
       "      <td>0.31</td>\n",
       "      <td>0.390000</td>\n",
       "      <td>4.346295</td>\n",
       "    </tr>\n",
       "    <tr>\n",
       "      <th>45</th>\n",
       "      <td>228834632</td>\n",
       "      <td>6.703678</td>\n",
       "      <td>2.509421</td>\n",
       "      <td>2.501475</td>\n",
       "      <td>b</td>\n",
       "      <td>11.729031</td>\n",
       "      <td>2.04</td>\n",
       "      <td>0.24</td>\n",
       "      <td>0.555000</td>\n",
       "      <td>2.790337</td>\n",
       "    </tr>\n",
       "    <tr>\n",
       "      <th>49</th>\n",
       "      <td>228934525</td>\n",
       "      <td>6.476976</td>\n",
       "      <td>2.937206</td>\n",
       "      <td>2.890880</td>\n",
       "      <td>b</td>\n",
       "      <td>3.676246</td>\n",
       "      <td>1.99</td>\n",
       "      <td>0.42</td>\n",
       "      <td>0.542021</td>\n",
       "      <td>4.031990</td>\n",
       "    </tr>\n",
       "    <tr>\n",
       "      <th>50</th>\n",
       "      <td>228934525</td>\n",
       "      <td>6.476976</td>\n",
       "      <td>2.937206</td>\n",
       "      <td>2.890880</td>\n",
       "      <td>c</td>\n",
       "      <td>7.954515</td>\n",
       "      <td>1.84</td>\n",
       "      <td>0.18</td>\n",
       "      <td>0.542021</td>\n",
       "      <td>3.117332</td>\n",
       "    </tr>\n",
       "  </tbody>\n",
       "</table>\n",
       "</div>"
      ],
      "text/plain": [
       "         epic         m    m_err+    m_err- pl          p     r  r_err  \\\n",
       "1   201102594  9.646539  4.646259  4.308479  b   6.513566  2.73   0.83   \n",
       "3   201128338  7.779031  2.416667  2.431014  b  32.654116  2.30   0.18   \n",
       "15  201390927  5.622397  2.363928  2.312666  b   2.637926  1.77   0.16   \n",
       "20  201598502  6.530701  2.532474  2.497709  b   7.514982  2.00   0.26   \n",
       "25  228725791  5.674498  2.520741  2.446665  c   6.491739  1.79   0.25   \n",
       "36  228758778  7.639248  2.666583  2.662171  b   9.300876  2.26   0.31   \n",
       "45  228834632  6.703678  2.509421  2.501475  b  11.729031  2.04   0.24   \n",
       "49  228934525  6.476976  2.937206  2.890880  b   3.676246  1.99   0.42   \n",
       "50  228934525  6.476976  2.937206  2.890880  c   7.954515  1.84   0.18   \n",
       "\n",
       "     st_mass  semi_amp  \n",
       "1   0.342000  6.745694  \n",
       "3   0.548301  2.320374  \n",
       "15  0.585000  3.715566  \n",
       "20  0.448000  3.637104  \n",
       "25  0.436000  3.378896  \n",
       "36  0.390000  4.346295  \n",
       "45  0.555000  2.790337  \n",
       "49  0.542021  4.031990  \n",
       "50  0.542021  3.117332  "
      ]
     },
     "execution_count": 23,
     "metadata": {},
     "output_type": "execute_result"
    }
   ],
   "source": [
    "within_gap_around_Mdwarf = within_gap.query('st_mass < 0.6')\n",
    "within_gap_around_Mdwarf"
   ]
  },
  {
   "cell_type": "code",
   "execution_count": 27,
   "metadata": {
    "ExecuteTime": {
     "end_time": "2017-11-09T04:53:52.740916Z",
     "start_time": "2017-11-09T04:53:52.259001Z"
    }
   },
   "outputs": [
    {
     "data": {
      "image/png": "[encoded data removed]",
      "text/plain": [
       "<matplotlib.figure.Figure at 0x7fe6bfd08400>"
      ]
     },
     "metadata": {},
     "output_type": "display_data"
    }
   ],
   "source": [
    "fig = pl.figure(figsize=(10,10))\n",
    "\n",
    "loglog = False\n",
    "\n",
    "m    = within_gap_around_Mdwarf['m'].values\n",
    "r    = within_gap_around_Mdwarf['r'].values\n",
    "minus= within_gap_around_Mdwarf['m_err-'].values\n",
    "plus = within_gap_around_Mdwarf['m_err+'].values\n",
    "rerr = within_gap_around_Mdwarf['r_err'].values\n",
    "names= within_gap_around_Mdwarf['epic'].values\n",
    "m_err = [minus,plus]\n",
    "\n",
    "pl.plot(r,m,'r.')\n",
    "pl.errorbar(r,m,yerr=m_err,xerr=rerr,linestyle='')\n",
    "if loglog:\n",
    "    pl.xscale('log')\n",
    "    pl.yscale('log')\n",
    "pl.xlabel('Radius [R$_{\\oplus}$]')\n",
    "pl.ylabel('Mass [M$_{\\oplus}$]')\n",
    "pl.title('1.5R$_{\\oplus}$<Rp<3R$_{\\oplus}$ around M-dwarfs')\n",
    "\n",
    "#add names\n",
    "offset=1\n",
    "\n",
    "i=0\n",
    "for x,y,n in zip(r,m,names):\n",
    "    pl.text(x,y+offset,n,color='k')\n",
    "    i+=1"
   ]
  },
  {
   "cell_type": "code",
   "execution_count": 28,
   "metadata": {
    "ExecuteTime": {
     "end_time": "2017-11-09T04:54:12.312886Z",
     "start_time": "2017-11-09T04:54:11.986586Z"
    }
   },
   "outputs": [
    {
     "data": {
      "text/plain": [
       "<matplotlib.text.Text at 0x7fe6bfc31630>"
      ]
     },
     "execution_count": 28,
     "metadata": {},
     "output_type": "execute_result"
    },
    {
     "data": {
      "image/png": "[encoded data removed]",
      "text/plain": [
       "<matplotlib.figure.Figure at 0x7fe6bfd9f080>"
      ]
     },
     "metadata": {},
     "output_type": "display_data"
    }
   ],
   "source": [
    "within_gap_around_Mdwarf.plot(x='m',y='semi_amp',kind='scatter')\n",
    "pl.xlabel('Planet Mass [M$_{\\oplus}$]')\n",
    "pl.ylabel('RV Semi-Amplitude [m/s]')\n",
    "pl.title('1.5R$_{\\oplus}$<Rp<3R$_{\\oplus}$ around M-dwarfs')"
   ]
  },
  {
   "cell_type": "markdown",
   "metadata": {},
   "source": [
    "## Who is that outlier?"
   ]
  },
  {
   "cell_type": "code",
   "execution_count": 29,
   "metadata": {
    "ExecuteTime": {
     "end_time": "2017-11-09T04:54:15.968475Z",
     "start_time": "2017-11-09T04:54:15.944118Z"
    }
   },
   "outputs": [
    {
     "data": {
      "text/html": [
       "<div>\n",
       "<style>\n",
       "    .dataframe thead tr:only-child th {\n",
       "        text-align: right;\n",
       "    }\n",
       "\n",
       "    .dataframe thead th {\n",
       "        text-align: left;\n",
       "    }\n",
       "\n",
       "    .dataframe tbody tr th {\n",
       "        vertical-align: top;\n",
       "    }\n",
       "</style>\n",
       "<table border=\"1\" class=\"dataframe\">\n",
       "  <thead>\n",
       "    <tr style=\"text-align: right;\">\n",
       "      <th></th>\n",
       "      <th>epic</th>\n",
       "      <th>m</th>\n",
       "      <th>m_err+</th>\n",
       "      <th>m_err-</th>\n",
       "      <th>pl</th>\n",
       "      <th>p</th>\n",
       "      <th>r</th>\n",
       "      <th>r_err</th>\n",
       "      <th>st_mass</th>\n",
       "      <th>semi_amp</th>\n",
       "    </tr>\n",
       "  </thead>\n",
       "  <tbody>\n",
       "    <tr>\n",
       "      <th>3</th>\n",
       "      <td>201128338</td>\n",
       "      <td>7.779031</td>\n",
       "      <td>2.416667</td>\n",
       "      <td>2.431014</td>\n",
       "      <td>b</td>\n",
       "      <td>32.654116</td>\n",
       "      <td>2.3</td>\n",
       "      <td>0.18</td>\n",
       "      <td>0.548301</td>\n",
       "      <td>2.320374</td>\n",
       "    </tr>\n",
       "  </tbody>\n",
       "</table>\n",
       "</div>"
      ],
      "text/plain": [
       "        epic         m    m_err+    m_err- pl          p    r  r_err  \\\n",
       "3  201128338  7.779031  2.416667  2.431014  b  32.654116  2.3   0.18   \n",
       "\n",
       "    st_mass  semi_amp  \n",
       "3  0.548301  2.320374  "
      ]
     },
     "execution_count": 29,
     "metadata": {},
     "output_type": "execute_result"
    }
   ],
   "source": [
    "within_gap_around_Mdwarf.query('epic == \"201128338\"')"
   ]
  },
  {
   "cell_type": "code",
   "execution_count": 30,
   "metadata": {
    "ExecuteTime": {
     "end_time": "2017-11-09T04:54:19.534851Z",
     "start_time": "2017-11-09T04:54:19.336965Z"
    }
   },
   "outputs": [
    {
     "data": {
      "text/plain": [
       "<matplotlib.collections.PathCollection at 0x7fe6bfb307f0>"
      ]
     },
     "execution_count": 30,
     "metadata": {},
     "output_type": "execute_result"
    },
    {
     "data": {
      "image/png": "[encoded data removed]",
      "text/plain": [
       "<matplotlib.figure.Figure at 0x7fe6bfc10358>"
      ]
     },
     "metadata": {},
     "output_type": "display_data"
    }
   ],
   "source": [
    "Ms = df_final['st_mass'].values\n",
    "\n",
    "pl.scatter(r,m,s=Ms*200,facecolors='none', edgecolors='b')\n",
    "#pl.yscale('log')"
   ]
  },
  {
   "cell_type": "code",
   "execution_count": 31,
   "metadata": {
    "ExecuteTime": {
     "end_time": "2017-11-09T04:54:21.739553Z",
     "start_time": "2017-11-09T04:54:20.621197Z"
    }
   },
   "outputs": [
    {
     "data": {
      "text/plain": [
       "<matplotlib.axes._subplots.AxesSubplot at 0x7fe6b6c440b8>"
      ]
     },
     "execution_count": 31,
     "metadata": {},
     "output_type": "execute_result"
    },
    {
     "data": {
      "image/png": "[encoded data removed]",
      "text/plain": [
       "<matplotlib.figure.Figure at 0x7fe6b710f828>"
      ]
     },
     "metadata": {},
     "output_type": "display_data"
    }
   ],
   "source": [
    "import seaborn as sb\n",
    "sb.set_style('white')\n",
    "\n",
    "cols = within_gap.drop(['epic','pl'],axis=1).columns\n",
    "\n",
    "corr = within_gap[cols].corr()\n",
    "\n",
    "mask = np.zeros_like(corr, dtype=np.bool)\n",
    "mask[np.triu_indices_from(mask)] = True\n",
    "\n",
    "sb.heatmap(corr, mask=mask, square=True)\n",
    "         \n",
    "# pl.imshow(corr)\n",
    "# pl.yticks(range(len(cols)),cols);\n",
    "# pl.xticks(range(len(cols)),cols, rotation=45);"
   ]
  },
  {
   "cell_type": "raw",
   "metadata": {
    "ExecuteTime": {
     "end_time": "2017-11-08T14:56:45.566806Z",
     "start_time": "2017-11-08T14:56:45.512394Z"
    }
   },
   "source": [
    "nbins = 5\n",
    "\n",
    "bins = np.linspace(within_gap.st_mass.min(), within_gap.st_mass.max(), nbins)\n",
    "grouped = df.groupby(by=within_gap.st_masss)\n",
    "\n",
    "# Create some sizes and some labels.\n",
    "sizes = [50*(i+1.) for i in range(nbins)]\n",
    "\n",
    "\n",
    "n=0\n",
    "for i in bins:\n",
    "    if n == bins[-1]:\n",
    "        labels.append('[{:.2f},{:.2f}]'.format(bins[n-1],i))\n",
    "    else:\n",
    "        labels.append('[{:.2f},{:.2f}]'.format(i,bins[n+1]))\n",
    "    n+=1\n",
    "\n",
    "for i, (name, group) in enumerate(grouped):\n",
    "    plt.scatter(group.x, group.y, s=sizes[i], alpha=0.5, label=labels[i])\n",
    "\n",
    "plt.legend()\n",
    "plt.show()"
   ]
  },
  {
   "cell_type": "markdown",
   "metadata": {},
   "source": [
    "## Regression"
   ]
  },
  {
   "cell_type": "code",
   "execution_count": 32,
   "metadata": {
    "ExecuteTime": {
     "end_time": "2017-11-09T04:54:51.612726Z",
     "start_time": "2017-11-09T04:54:25.286694Z"
    }
   },
   "outputs": [
    {
     "data": {
      "text/plain": [
       "<matplotlib.axes._subplots.AxesSubplot at 0x7fe6b6bffeb8>"
      ]
     },
     "execution_count": 32,
     "metadata": {},
     "output_type": "execute_result"
    },
    {
     "data": {
      "image/png": "[encoded data removed]",
      "text/plain": [
       "<matplotlib.figure.Figure at 0x7fe6bfb97d68>"
      ]
     },
     "metadata": {},
     "output_type": "display_data"
    }
   ],
   "source": [
    "fig, ax = pl.subplots(figsize=(7, 7))\n",
    "\n",
    "sb.regplot(\"r\", \"m\", data=df_final, robust=True, ax=ax, scatter_kws={\"s\": 100})"
   ]
  },
  {
   "cell_type": "markdown",
   "metadata": {},
   "source": [
    "## Regression (r<13R$_{\\oplus}$)"
   ]
  },
  {
   "cell_type": "raw",
   "metadata": {
    "ExecuteTime": {
     "end_time": "2017-11-08T16:21:32.309283Z",
     "start_time": "2017-11-08T16:21:32.297579Z"
    }
   },
   "source": [
    "sb.regplot?"
   ]
  },
  {
   "cell_type": "code",
   "execution_count": 33,
   "metadata": {
    "ExecuteTime": {
     "end_time": "2017-11-09T04:55:05.990115Z",
     "start_time": "2017-11-09T04:55:05.570335Z"
    }
   },
   "outputs": [
    {
     "data": {
      "image/png": "[encoded data removed]",
      "text/plain": [
       "<matplotlib.figure.Figure at 0x7fe6b6be4710>"
      ]
     },
     "metadata": {},
     "output_type": "display_data"
    }
   ],
   "source": [
    "fig, ax = pl.subplots(figsize=(7, 7))\n",
    "\n",
    "df_masked = df_final.query('r < 13')\n",
    "rp = sb.regplot(\"r\", \"m\", data=df_masked, ax=ax, scatter_kws={\"s\": 100})"
   ]
  },
  {
   "cell_type": "code",
   "execution_count": 34,
   "metadata": {
    "ExecuteTime": {
     "end_time": "2017-11-09T04:55:09.187222Z",
     "start_time": "2017-11-09T04:55:08.078755Z"
    }
   },
   "outputs": [
    {
     "data": {
      "text/plain": [
       "<seaborn.axisgrid.JointGrid at 0x7fe6b68f54a8>"
      ]
     },
     "execution_count": 34,
     "metadata": {},
     "output_type": "execute_result"
    },
    {
     "data": {
      "image/png": "[encoded data removed]",
      "text/plain": [
       "<matplotlib.figure.Figure at 0x7fe6b68f5438>"
      ]
     },
     "metadata": {},
     "output_type": "display_data"
    }
   ],
   "source": [
    "df_masked = df_final.query('r < 13')\n",
    "\n",
    "g = sb.jointplot(\"r\", \"m\", data=df_masked, kind=\"reg\", size=7,\n",
    "                 xlim=(0, 8), ylim=(0, 12), color=\"r\")\n",
    "g.set_axis_labels(\"Radius [R$_{\\oplus}$]\", \"Mass [M$_{\\oplus}$]\")"
   ]
  },
  {
   "cell_type": "code",
   "execution_count": 35,
   "metadata": {
    "ExecuteTime": {
     "end_time": "2017-11-09T04:55:14.803635Z",
     "start_time": "2017-11-09T04:55:14.308051Z"
    }
   },
   "outputs": [
    {
     "data": {
      "text/plain": [
       "<seaborn.axisgrid.FacetGrid at 0x7fe6b664f358>"
      ]
     },
     "execution_count": 35,
     "metadata": {},
     "output_type": "execute_result"
    },
    {
     "data": {
      "image/png": "[encoded data removed]",
      "text/plain": [
       "<matplotlib.figure.Figure at 0x7fe6b664f550>"
      ]
     },
     "metadata": {},
     "output_type": "display_data"
    }
   ],
   "source": [
    "import seaborn as sb\n",
    "sb.set_style('white')\n",
    "\n",
    "df_masked = df_final.query('r < 13')\n",
    "\n",
    "#add: hue='semi_amp',\n",
    "g = sb.lmplot(x=\"r\", y=\"m\", \n",
    "               truncate=True, size=5, data=df_masked)\n",
    "\n",
    "# Use more informative axis labels than are provided by default\n",
    "g.set_axis_labels(\"Radius [R$_{\\oplus}$]\", \"Mass [M$_{\\oplus}$]\")\n",
    "#g.set(xscale=\"log\", yscale=\"log\",xlim=[0.1,30])"
   ]
  },
  {
   "cell_type": "markdown",
   "metadata": {},
   "source": [
    "## Fitting a power law\n",
    "* See [scipy](http://scipy-cookbook.readthedocs.io/items/FittingData.html)\n",
    "\n",
    "* van Eylen: R = P^−0.09 [+0.02 −0.04]"
   ]
  },
  {
   "cell_type": "raw",
   "metadata": {},
   "source": [
    "# Target function\n",
    "fitfunc = lambda T, p, x: p[0]*np.cos(2*np.pi/T*x+p[1]) + p[2]*x\n",
    "# Initial guess for the first set's parameters\n",
    "p1 = r_[-15., 0., -1.]\n",
    "# Initial guess for the second set's parameters\n",
    "p2 = r_[-15., 0., -1.]\n",
    "# Initial guess for the common period\n",
    "T = 0.8\n",
    "# Vector of the parameters to fit, it contains all the parameters of the problem, and the period of the oscillation is not there twice !\n",
    "p = r_[T, p1, p2]\n",
    "# Cost function of the fit, compare it to the previous example.\n",
    "errfunc = lambda p, x1, y1, x2, y2: r_[\n",
    "                fitfunc(p[0], p[1:4], x1) - y1,\n",
    "                fitfunc(p[0], p[4:7], x2) - y2\n",
    "            ]\n",
    "# This time we need to pass the two sets of data, there are thus four \"args\".\n",
    "p,success = optimize.leastsq(errfunc, p, args=(Tx, tX, Ty, tY))"
   ]
  },
  {
   "cell_type": "markdown",
   "metadata": {},
   "source": [
    "## Save df"
   ]
  },
  {
   "cell_type": "code",
   "execution_count": 36,
   "metadata": {
    "ExecuteTime": {
     "end_time": "2017-11-09T04:55:18.108335Z",
     "start_time": "2017-11-09T04:55:18.097297Z"
    },
    "collapsed": true
   },
   "outputs": [],
   "source": [
    "df_final.to_csv('final_results.csv')"
   ]
  },
  {
   "cell_type": "code",
   "execution_count": null,
   "metadata": {
    "collapsed": true
   },
   "outputs": [],
   "source": []
  }
 ],
 "metadata": {
  "kernelspec": {
   "display_name": "Python 3",
   "language": "python",
   "name": "python3"
  },
  "language_info": {
   "codemirror_mode": {
    "name": "ipython",
    "version": 3
   },
   "file_extension": ".py",
   "mimetype": "text/x-python",
   "name": "python",
   "nbconvert_exporter": "python",
   "pygments_lexer": "ipython3",
   "version": "3.6.1"
  }
 },
 "nbformat": 4,
 "nbformat_minor": 2
}
